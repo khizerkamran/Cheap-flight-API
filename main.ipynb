{
 "cells": [
  {
   "cell_type": "code",
   "execution_count": null,
   "id": "85ef2436",
   "metadata": {},
   "outputs": [
    {
     "name": "stdout",
     "output_type": "stream",
     "text": [
      "Paris: £55\n",
      "Berlin: £28\n",
      "SMb4acc0fb92b5471e82dd5ae9cf6bc21c\n",
      "Tokyo: £955\n"
     ]
    }
   ],
   "source": [
    "from datetime import datetime, timedelta\n",
    "from data_manager import DataManager\n",
    "from flight_search import FlightSearch\n",
    "from notification_manager import NotificationManager\n",
    "\n",
    "data_manager = DataManager()\n",
    "sheet_data = data_manager.get_destination_data()\n",
    "flight_search = FlightSearch()\n",
    "notification_manager = NotificationManager()\n",
    "\n",
    "ORIGIN_CITY_IATA = \"LON\"\n",
    "\n",
    "if sheet_data[0][\"iataCode\"] == \"\":\n",
    "    for row in sheet_data:\n",
    "        row[\"iataCode\"] = flight_search.get_destination_code(row[\"city\"])\n",
    "    data_manager.destination_data = sheet_data\n",
    "    data_manager.update_destination_codes()\n",
    "\n",
    "tomorrow = datetime.now() + timedelta(days=1)\n",
    "six_month_from_today = datetime.now() + timedelta(days=(6 * 30))\n",
    "\n",
    "for destination in sheet_data:\n",
    "    flight = flight_search.check_flights(\n",
    "        ORIGIN_CITY_IATA,\n",
    "        destination[\"iataCode\"],\n",
    "        from_time=tomorrow,\n",
    "        to_time=six_month_from_today\n",
    "    )\n",
    "    if flight.price < destination[\"lowestPrice\"]:\n",
    "        notification_manager.send_sms(\n",
    "            message=f\"Low price alert! Only £{flight.price} to fly from {flight.origin_city}-{flight.origin_airport} to {flight.destination_city}-{flight.destination_airport}, from {flight.out_date} to {flight.return_date}.\"\n",
    "        )\n"
   ]
  },
  {
   "cell_type": "code",
   "execution_count": null,
   "id": "892bc165",
   "metadata": {},
   "outputs": [],
   "source": []
  }
 ],
 "metadata": {
  "kernelspec": {
   "display_name": "Python 3",
   "language": "python",
   "name": "python3"
  },
  "language_info": {
   "codemirror_mode": {
    "name": "ipython",
    "version": 3
   },
   "file_extension": ".py",
   "mimetype": "text/x-python",
   "name": "python",
   "nbconvert_exporter": "python",
   "pygments_lexer": "ipython3",
   "version": "3.8.7"
  }
 },
 "nbformat": 4,
 "nbformat_minor": 5
}
